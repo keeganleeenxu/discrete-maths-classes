{
 "cells": [
  {
   "cell_type": "markdown",
   "id": "fee8644f",
   "metadata": {},
   "source": [
    "# Week 4 Class\n",
    "\n",
    "1. Rewrite the merge sort code, adding assertions to check that the loop invariant is satisfied.\n",
    "2. Write code to sum the value in an array. Find a loop invariant for your code, and use it to prove that your code correctly sums those values."
   ]
  },
  {
   "cell_type": "code",
   "execution_count": 17,
   "metadata": {},
   "outputs": [
    {
     "name": "stdout",
     "output_type": "stream",
     "text": [
      "out:  [5]\n"
     ]
    },
    {
     "ename": "AssertionError",
     "evalue": "",
     "output_type": "error",
     "traceback": [
      "\u001b[1;31m---------------------------------------------------------------------------\u001b[0m",
      "\u001b[1;31mAssertionError\u001b[0m                            Traceback (most recent call last)",
      "\u001b[1;32mc:\\Users\\imperial\\discrete-maths-classes\\week-4-class.ipynb Cell 2\u001b[0m line \u001b[0;36m4\n\u001b[0;32m     <a href='vscode-notebook-cell:/c%3A/Users/imperial/discrete-maths-classes/week-4-class.ipynb#X11sZmlsZQ%3D%3D?line=32'>33</a>\u001b[0m     \u001b[39mreturn\u001b[39;00m out\n\u001b[0;32m     <a href='vscode-notebook-cell:/c%3A/Users/imperial/discrete-maths-classes/week-4-class.ipynb#X11sZmlsZQ%3D%3D?line=34'>35</a>\u001b[0m \u001b[39m# Loop Invariant:\u001b[39;00m\n\u001b[0;32m     <a href='vscode-notebook-cell:/c%3A/Users/imperial/discrete-maths-classes/week-4-class.ipynb#X11sZmlsZQ%3D%3D?line=35'>36</a>\u001b[0m \u001b[39m# (1) out is sorted\u001b[39;00m\n\u001b[0;32m     <a href='vscode-notebook-cell:/c%3A/Users/imperial/discrete-maths-classes/week-4-class.ipynb#X11sZmlsZQ%3D%3D?line=36'>37</a>\u001b[0m \u001b[39m# (2) out contains values smaller than both L and R\u001b[39;00m\n\u001b[1;32m   (...)\u001b[0m\n\u001b[0;32m     <a href='vscode-notebook-cell:/c%3A/Users/imperial/discrete-maths-classes/week-4-class.ipynb#X11sZmlsZQ%3D%3D?line=42'>43</a>\u001b[0m \u001b[39m# to implement (2)\u001b[39;00m\n\u001b[0;32m     <a href='vscode-notebook-cell:/c%3A/Users/imperial/discrete-maths-classes/week-4-class.ipynb#X11sZmlsZQ%3D%3D?line=43'>44</a>\u001b[0m \u001b[39m# given that (1) is true, we can just check max(out) <= min(L) and min(R)\u001b[39;00m\n\u001b[1;32m---> <a href='vscode-notebook-cell:/c%3A/Users/imperial/discrete-maths-classes/week-4-class.ipynb#X11sZmlsZQ%3D%3D?line=46'>47</a>\u001b[0m mergesort([\u001b[39m6\u001b[39;49m,\u001b[39m5\u001b[39;49m,\u001b[39m3\u001b[39;49m,\u001b[39m1\u001b[39;49m,\u001b[39m8\u001b[39;49m,\u001b[39m7\u001b[39;49m,\u001b[39m2\u001b[39;49m,\u001b[39m4\u001b[39;49m])\n",
      "\u001b[1;32mc:\\Users\\imperial\\discrete-maths-classes\\week-4-class.ipynb Cell 2\u001b[0m line \u001b[0;36m6\n\u001b[0;32m      <a href='vscode-notebook-cell:/c%3A/Users/imperial/discrete-maths-classes/week-4-class.ipynb#X11sZmlsZQ%3D%3D?line=3'>4</a>\u001b[0m     \u001b[39mreturn\u001b[39;00m X\n\u001b[0;32m      <a href='vscode-notebook-cell:/c%3A/Users/imperial/discrete-maths-classes/week-4-class.ipynb#X11sZmlsZQ%3D%3D?line=4'>5</a>\u001b[0m mid \u001b[39m=\u001b[39m \u001b[39mlen\u001b[39m(X)\u001b[39m/\u001b[39m\u001b[39m/\u001b[39m\u001b[39m2\u001b[39m\n\u001b[1;32m----> <a href='vscode-notebook-cell:/c%3A/Users/imperial/discrete-maths-classes/week-4-class.ipynb#X11sZmlsZQ%3D%3D?line=5'>6</a>\u001b[0m L \u001b[39m=\u001b[39m mergesort(X[:mid])\n\u001b[0;32m      <a href='vscode-notebook-cell:/c%3A/Users/imperial/discrete-maths-classes/week-4-class.ipynb#X11sZmlsZQ%3D%3D?line=6'>7</a>\u001b[0m R \u001b[39m=\u001b[39m mergesort(X[mid:])\n\u001b[0;32m      <a href='vscode-notebook-cell:/c%3A/Users/imperial/discrete-maths-classes/week-4-class.ipynb#X11sZmlsZQ%3D%3D?line=7'>8</a>\u001b[0m out \u001b[39m=\u001b[39m []\n",
      "\u001b[1;32mc:\\Users\\imperial\\discrete-maths-classes\\week-4-class.ipynb Cell 2\u001b[0m line \u001b[0;36m6\n\u001b[0;32m      <a href='vscode-notebook-cell:/c%3A/Users/imperial/discrete-maths-classes/week-4-class.ipynb#X11sZmlsZQ%3D%3D?line=3'>4</a>\u001b[0m     \u001b[39mreturn\u001b[39;00m X\n\u001b[0;32m      <a href='vscode-notebook-cell:/c%3A/Users/imperial/discrete-maths-classes/week-4-class.ipynb#X11sZmlsZQ%3D%3D?line=4'>5</a>\u001b[0m mid \u001b[39m=\u001b[39m \u001b[39mlen\u001b[39m(X)\u001b[39m/\u001b[39m\u001b[39m/\u001b[39m\u001b[39m2\u001b[39m\n\u001b[1;32m----> <a href='vscode-notebook-cell:/c%3A/Users/imperial/discrete-maths-classes/week-4-class.ipynb#X11sZmlsZQ%3D%3D?line=5'>6</a>\u001b[0m L \u001b[39m=\u001b[39m mergesort(X[:mid])\n\u001b[0;32m      <a href='vscode-notebook-cell:/c%3A/Users/imperial/discrete-maths-classes/week-4-class.ipynb#X11sZmlsZQ%3D%3D?line=6'>7</a>\u001b[0m R \u001b[39m=\u001b[39m mergesort(X[mid:])\n\u001b[0;32m      <a href='vscode-notebook-cell:/c%3A/Users/imperial/discrete-maths-classes/week-4-class.ipynb#X11sZmlsZQ%3D%3D?line=7'>8</a>\u001b[0m out \u001b[39m=\u001b[39m []\n",
      "\u001b[1;32mc:\\Users\\imperial\\discrete-maths-classes\\week-4-class.ipynb Cell 2\u001b[0m line \u001b[0;36m3\n\u001b[0;32m     <a href='vscode-notebook-cell:/c%3A/Users/imperial/discrete-maths-classes/week-4-class.ipynb#X11sZmlsZQ%3D%3D?line=27'>28</a>\u001b[0m             j \u001b[39m+\u001b[39m\u001b[39m=\u001b[39m \u001b[39m1\u001b[39m\n\u001b[0;32m     <a href='vscode-notebook-cell:/c%3A/Users/imperial/discrete-maths-classes/week-4-class.ipynb#X11sZmlsZQ%3D%3D?line=28'>29</a>\u001b[0m     \u001b[39mprint\u001b[39m(\u001b[39m'\u001b[39m\u001b[39mout: \u001b[39m\u001b[39m'\u001b[39m, out)\n\u001b[1;32m---> <a href='vscode-notebook-cell:/c%3A/Users/imperial/discrete-maths-classes/week-4-class.ipynb#X11sZmlsZQ%3D%3D?line=29'>30</a>\u001b[0m     \u001b[39massert\u001b[39;00m [out[a] \u001b[39m>\u001b[39m out[a\u001b[39m-\u001b[39m\u001b[39m1\u001b[39m] \u001b[39mfor\u001b[39;00m a \u001b[39min\u001b[39;00m \u001b[39mrange\u001b[39m(\u001b[39m1\u001b[39m, \u001b[39mlen\u001b[39m(out))]  \u001b[39m# checking (1)\u001b[39;00m\n\u001b[0;32m     <a href='vscode-notebook-cell:/c%3A/Users/imperial/discrete-maths-classes/week-4-class.ipynb#X11sZmlsZQ%3D%3D?line=30'>31</a>\u001b[0m     \u001b[39massert\u001b[39;00m \u001b[39mmax\u001b[39m(out) \u001b[39m<\u001b[39m \u001b[39mmin\u001b[39m(L[i], R[j])\n\u001b[0;32m     <a href='vscode-notebook-cell:/c%3A/Users/imperial/discrete-maths-classes/week-4-class.ipynb#X11sZmlsZQ%3D%3D?line=32'>33</a>\u001b[0m \u001b[39mreturn\u001b[39;00m out\n",
      "\u001b[1;31mAssertionError\u001b[0m: "
     ]
    }
   ],
   "source": [
    "# Current mergesort code\n",
    "def mergesort(X):\n",
    "    if len(X) <= 1:\n",
    "        return X\n",
    "    mid = len(X)//2\n",
    "    L = mergesort(X[:mid])\n",
    "    R = mergesort(X[mid:])\n",
    "    out = []\n",
    "    i = j = 0\n",
    "    \n",
    "    \n",
    "    \n",
    "    while i < len(L) or j < len(R):\n",
    "        if i == len(L):\n",
    "            out.append(R[j])\n",
    "            j += 1\n",
    "        elif j == len(R):\n",
    "            out.append(L[i])\n",
    "            i += 1\n",
    "        else:\n",
    "            l = L[i]\n",
    "            r = R[j]\n",
    "            if l < r:\n",
    "                out.append(L[i])\n",
    "                i += 1\n",
    "            else:\n",
    "                out.append(R[j])\n",
    "                j += 1\n",
    "        print('out: ', out)\n",
    "        assert [out[a] > out[a-1] for a in range(1, len(out))]  # checking (1)\n",
    "        assert max(out) < min(L[i], R[j])\n",
    "        \n",
    "    return out\n",
    "\n",
    "# Loop Invariant:\n",
    "# (1) out is sorted\n",
    "# (2) out contains values smaller than both L and R\n",
    "\n",
    "# to implement (1)\n",
    "# a for loop that cycles through out, checking that each element is >= the previous element\n",
    "#   assert out[i] > out[i-1] for i in range(1, len(out))\n",
    "\n",
    "# to implement (2)\n",
    "# given that (1) is true, we can just check max(out) <= min(L) and min(R)\n",
    "\n",
    "\n",
    "mergesort([6,5,3,1,8,7,2,4])"
   ]
  },
  {
   "cell_type": "code",
   "execution_count": 13,
   "metadata": {},
   "outputs": [
    {
     "data": {
      "text/plain": [
       "15"
      ]
     },
     "execution_count": 13,
     "metadata": {},
     "output_type": "execute_result"
    }
   ],
   "source": [
    "# write some code to sum the values in an array, find the loop invariant and use it to prove correct summation\n",
    "\n",
    "# Loop Invariant:\n",
    "# Initialization - must be true before first iteration of loop\n",
    "# Maintenance - must be true throughout all iterations of loop\n",
    "# Termination - must be true when exiting the loop\n",
    "\n",
    "# The loop invariant for this sum function might be that the `sum` variable is sum of the elements processed so far\n",
    "# to implement loop invariant:\n",
    "# check that sum is comprised of summation of values up to that point by having an additional array to trace and follow\n",
    "\n",
    "def sum_array(arr):\n",
    "    sum = 0\n",
    "    for i in range(len(arr)):\n",
    "        sum = sum + arr[i]\n",
    "    return sum\n",
    "\n",
    "sum_array([1,2,3,4,5])"
   ]
  },
  {
   "cell_type": "markdown",
   "id": "1e44e3b2",
   "metadata": {},
   "source": [
    "## Note on assertions\n",
    "\n",
    "In case you are not familiar, an [assertion](https://en.wikipedia.org/wiki/Assertion_(software_development)) is a debugging technique that can be used in any programming language used to catch bugs that might not result in the code raising an error, but might lead to the code giving incorrect results. In Python, you use the ``assert <condition>`` statement to say that at this point in the program, the ``<condition>`` must be true otherwise something has gone wrong. Python will evaluate ``<condition>`` and if it evaluates to ``True``, do nothing, but if it evaluates to ``False`` it will raise an error. Assertions are only evaluated in debug mode (the default on Python), so that in production code they have no computational cost.\n",
    "\n",
    "Here's two examples to demonstrate what this looks like in Python."
   ]
  },
  {
   "cell_type": "code",
   "execution_count": 1,
   "id": "9add2f18",
   "metadata": {},
   "outputs": [
    {
     "data": {
      "text/plain": [
       "2"
      ]
     },
     "execution_count": 1,
     "metadata": {},
     "output_type": "execute_result"
    }
   ],
   "source": [
    "def exactly_half_of(x):\n",
    "    assert x%2==0 # can only return exactly half if it's divisible by 2\n",
    "    return x//2 # integer division\n",
    "\n",
    "exactly_half_of(4) # runs fine, assertion is True"
   ]
  },
  {
   "cell_type": "code",
   "execution_count": 2,
   "id": "fd73edfe",
   "metadata": {},
   "outputs": [
    {
     "ename": "AssertionError",
     "evalue": "",
     "output_type": "error",
     "traceback": [
      "\u001b[1;31m---------------------------------------------------------------------------\u001b[0m",
      "\u001b[1;31mAssertionError\u001b[0m                            Traceback (most recent call last)",
      "\u001b[1;32mc:\\Users\\imperial\\discrete-maths-classes\\week-4-class.ipynb Cell 4\u001b[0m line \u001b[0;36m1\n\u001b[1;32m----> <a href='vscode-notebook-cell:/c%3A/Users/imperial/discrete-maths-classes/week-4-class.ipynb#W3sZmlsZQ%3D%3D?line=0'>1</a>\u001b[0m exactly_half_of(\u001b[39m3\u001b[39;49m) \u001b[39m# raises an AssertionError because 3 is not divisible by 2\u001b[39;00m\n",
      "\u001b[1;32mc:\\Users\\imperial\\discrete-maths-classes\\week-4-class.ipynb Cell 4\u001b[0m line \u001b[0;36m2\n\u001b[0;32m      <a href='vscode-notebook-cell:/c%3A/Users/imperial/discrete-maths-classes/week-4-class.ipynb#W3sZmlsZQ%3D%3D?line=0'>1</a>\u001b[0m \u001b[39mdef\u001b[39;00m \u001b[39mexactly_half_of\u001b[39m(x):\n\u001b[1;32m----> <a href='vscode-notebook-cell:/c%3A/Users/imperial/discrete-maths-classes/week-4-class.ipynb#W3sZmlsZQ%3D%3D?line=1'>2</a>\u001b[0m     \u001b[39massert\u001b[39;00m x\u001b[39m%\u001b[39m\u001b[39m2\u001b[39m\u001b[39m==\u001b[39m\u001b[39m0\u001b[39m \u001b[39m# can only return exactly half if it's divisible by 2\u001b[39;00m\n\u001b[0;32m      <a href='vscode-notebook-cell:/c%3A/Users/imperial/discrete-maths-classes/week-4-class.ipynb#W3sZmlsZQ%3D%3D?line=2'>3</a>\u001b[0m     \u001b[39mreturn\u001b[39;00m x\u001b[39m/\u001b[39m\u001b[39m/\u001b[39m\u001b[39m2\u001b[39m\n",
      "\u001b[1;31mAssertionError\u001b[0m: "
     ]
    }
   ],
   "source": [
    "exactly_half_of(3) # raises an AssertionError because 3 is not divisible by 2"
   ]
  },
  {
   "cell_type": "markdown",
   "id": "0dd6e3d0",
   "metadata": {},
   "source": [
    "Why might you want to use this? Well, just imagine in the code above if you didn't have an assertion and you did something like this (contrived example):"
   ]
  },
  {
   "cell_type": "code",
   "execution_count": 3,
   "id": "16cecdd9",
   "metadata": {},
   "outputs": [
    {
     "name": "stdout",
     "output_type": "stream",
     "text": [
      "3\n"
     ]
    }
   ],
   "source": [
    "def half_of(n):\n",
    "    return n//2 # integer division\n",
    "\n",
    "def crazy_sum(X):\n",
    "    n = len(X)\n",
    "    half_n = half_of(n)\n",
    "    left_sum = sum(X[0:half_n])\n",
    "    right_sum = sum(X[half_n:2*half_n])\n",
    "    return left_sum+right_sum\n",
    "\n",
    "print(crazy_sum([1,2,3]))"
   ]
  },
  {
   "cell_type": "markdown",
   "id": "82bec6fb",
   "metadata": {},
   "source": [
    "You can see here that the sum returns 3 when you probably intended it to return 6. Your code has a bug but you don't get an error. If you had done the same thing with an assertion, it would raise an error and so you'd discover that your code had a hidden assumption that n is even."
   ]
  },
  {
   "cell_type": "code",
   "execution_count": 4,
   "id": "3354b1a9",
   "metadata": {},
   "outputs": [
    {
     "ename": "AssertionError",
     "evalue": "",
     "output_type": "error",
     "traceback": [
      "\u001b[1;31m---------------------------------------------------------------------------\u001b[0m",
      "\u001b[1;31mAssertionError\u001b[0m                            Traceback (most recent call last)",
      "\u001b[1;32mc:\\Users\\imperial\\discrete-maths-classes\\week-4-class.ipynb Cell 8\u001b[0m line \u001b[0;36m1\n\u001b[0;32m      <a href='vscode-notebook-cell:/c%3A/Users/imperial/discrete-maths-classes/week-4-class.ipynb#X10sZmlsZQ%3D%3D?line=8'>9</a>\u001b[0m     right_sum \u001b[39m=\u001b[39m \u001b[39msum\u001b[39m(X[half_n:\u001b[39m2\u001b[39m\u001b[39m*\u001b[39mhalf_n])\n\u001b[0;32m     <a href='vscode-notebook-cell:/c%3A/Users/imperial/discrete-maths-classes/week-4-class.ipynb#X10sZmlsZQ%3D%3D?line=9'>10</a>\u001b[0m     \u001b[39mreturn\u001b[39;00m left_sum\u001b[39m+\u001b[39mright_sum\n\u001b[1;32m---> <a href='vscode-notebook-cell:/c%3A/Users/imperial/discrete-maths-classes/week-4-class.ipynb#X10sZmlsZQ%3D%3D?line=11'>12</a>\u001b[0m \u001b[39mprint\u001b[39m(crazy_sum([\u001b[39m1\u001b[39;49m,\u001b[39m2\u001b[39;49m,\u001b[39m3\u001b[39;49m]))\n",
      "\u001b[1;32mc:\\Users\\imperial\\discrete-maths-classes\\week-4-class.ipynb Cell 8\u001b[0m line \u001b[0;36m7\n\u001b[0;32m      <a href='vscode-notebook-cell:/c%3A/Users/imperial/discrete-maths-classes/week-4-class.ipynb#X10sZmlsZQ%3D%3D?line=4'>5</a>\u001b[0m \u001b[39mdef\u001b[39;00m \u001b[39mcrazy_sum\u001b[39m(X):\n\u001b[0;32m      <a href='vscode-notebook-cell:/c%3A/Users/imperial/discrete-maths-classes/week-4-class.ipynb#X10sZmlsZQ%3D%3D?line=5'>6</a>\u001b[0m     n \u001b[39m=\u001b[39m \u001b[39mlen\u001b[39m(X)\n\u001b[1;32m----> <a href='vscode-notebook-cell:/c%3A/Users/imperial/discrete-maths-classes/week-4-class.ipynb#X10sZmlsZQ%3D%3D?line=6'>7</a>\u001b[0m     half_n \u001b[39m=\u001b[39m half_of(n)\n\u001b[0;32m      <a href='vscode-notebook-cell:/c%3A/Users/imperial/discrete-maths-classes/week-4-class.ipynb#X10sZmlsZQ%3D%3D?line=7'>8</a>\u001b[0m     left_sum \u001b[39m=\u001b[39m \u001b[39msum\u001b[39m(X[\u001b[39m0\u001b[39m:half_n])\n\u001b[0;32m      <a href='vscode-notebook-cell:/c%3A/Users/imperial/discrete-maths-classes/week-4-class.ipynb#X10sZmlsZQ%3D%3D?line=8'>9</a>\u001b[0m     right_sum \u001b[39m=\u001b[39m \u001b[39msum\u001b[39m(X[half_n:\u001b[39m2\u001b[39m\u001b[39m*\u001b[39mhalf_n])\n",
      "\u001b[1;32mc:\\Users\\imperial\\discrete-maths-classes\\week-4-class.ipynb Cell 8\u001b[0m line \u001b[0;36m2\n\u001b[0;32m      <a href='vscode-notebook-cell:/c%3A/Users/imperial/discrete-maths-classes/week-4-class.ipynb#X10sZmlsZQ%3D%3D?line=0'>1</a>\u001b[0m \u001b[39mdef\u001b[39;00m \u001b[39mhalf_of\u001b[39m(n):\n\u001b[1;32m----> <a href='vscode-notebook-cell:/c%3A/Users/imperial/discrete-maths-classes/week-4-class.ipynb#X10sZmlsZQ%3D%3D?line=1'>2</a>\u001b[0m     \u001b[39massert\u001b[39;00m n\u001b[39m%\u001b[39m\u001b[39m2\u001b[39m\u001b[39m==\u001b[39m\u001b[39m0\u001b[39m\n\u001b[0;32m      <a href='vscode-notebook-cell:/c%3A/Users/imperial/discrete-maths-classes/week-4-class.ipynb#X10sZmlsZQ%3D%3D?line=2'>3</a>\u001b[0m     \u001b[39mreturn\u001b[39;00m n\u001b[39m/\u001b[39m\u001b[39m/\u001b[39m\u001b[39m2\u001b[39m\n",
      "\u001b[1;31mAssertionError\u001b[0m: "
     ]
    }
   ],
   "source": [
    "def half_of(n):\n",
    "    assert n%2==0\n",
    "    return n//2 # integer division\n",
    "\n",
    "def crazy_sum(X):\n",
    "    n = len(X)\n",
    "    half_n = half_of(n)\n",
    "    left_sum = sum(X[0:half_n])\n",
    "    right_sum = sum(X[half_n:2*half_n])\n",
    "    return left_sum+right_sum\n",
    "\n",
    "print(crazy_sum([1,2,3]))"
   ]
  }
 ],
 "metadata": {
  "kernelspec": {
   "display_name": "Python 3 (ipykernel)",
   "language": "python",
   "name": "python3"
  },
  "language_info": {
   "codemirror_mode": {
    "name": "ipython",
    "version": 3
   },
   "file_extension": ".py",
   "mimetype": "text/x-python",
   "name": "python",
   "nbconvert_exporter": "python",
   "pygments_lexer": "ipython3",
   "version": "3.12.0"
  }
 },
 "nbformat": 4,
 "nbformat_minor": 5
}
