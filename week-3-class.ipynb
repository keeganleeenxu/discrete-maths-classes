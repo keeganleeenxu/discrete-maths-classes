{
 "cells": [
  {
   "cell_type": "markdown",
   "id": "3031868e",
   "metadata": {},
   "source": [
    "# Week 3 - class\n",
    "\n",
    "We'll go through the 2014 Algorithms and Complexity exam, Q2 (below). For part (b), rather than writing pseudocode I'd like you to write code that implements it. I've included templates in Python and C++ below. I'd suggest you have a go at least at the coding part before the class."
   ]
  },
  {
   "cell_type": "markdown",
   "id": "870ab20f",
   "metadata": {},
   "source": [
    "## 2014 Q2\n",
    "\n",
    "**Note: the original exam question had a mistake on it, use this version.**\n",
    "\n",
    "Consider an array $A=[a_1,a_2,\\ldots,a_n]$ containing $n$ elements. The only operation you are allowed is to check whether two elements are equal, i.e. \"is $a_i$ equal to $a_j$?\" and these will be the elementary operations.\n",
    "\n",
    "In what follows, assume that $n$ is a power of 2, i.e. $n=2^k$ for some positive integer $k$.\n",
    "\n",
    "An element $x$ is the *majority* element in $A$ if it occurs more than $n/2$ times in the array. So for example, $[1,2,1,1]$ (with $n=4$) has a majority element 1 because it occurs $3>n/2$ times. The array $[1,2,3,3]$ has no majority element: 3 occurs twice, but this isn't enough because it is not true that $2>n/2$.\n",
    "\n",
    "We will consider two distinct algorithms for finding the majority element in a list.\n",
    "\n",
    "**(a)** Let us first start with a naive approach. Describe, in words, what the different steps of the following algorithm do and derive the complexity of this algorithm in terms of elementary operations. **[ 5 ]**\n",
    "    \n",
    "```Python\n",
    "def majority(A):\n",
    "    n = len(A)\n",
    "    for i in range(n):\n",
    "        c = 0\n",
    "        for j in range(n):\n",
    "            if A[i]==A[j]:\n",
    "                c = c+1\n",
    "        if c>n/2:\n",
    "            return A[i]\n",
    "    return None\n",
    "```\n",
    "\n",
    "**(b)** Derive in words or using pseudocode, a divide-and-conquer recursive algorithm for finding the majority element in $A$. **[ 10 ]**\n",
    "\n",
    "> Hint: You need to distinguish a number of scenarios depending on whether there is a majority element in the first and/or second array of the divide-and-conquer procedure.\n",
    "\n",
    "**(c)** Compute the complexity of the algorithm you described in part (b). **[ 5 ]**"
   ]
  },
  {
   "cell_type": "markdown",
   "id": "e185b027",
   "metadata": {},
   "source": [
    "**Answers**\n",
    "\n",
    "(a) Step by step:\n",
    "```Python\n",
    "def majority(A):                #function definition\n",
    "    n = len(A)                  #storing the length of the array in `n`\n",
    "    for i in range(n):          #for loop to iterature through the array\n",
    "        c = 0                   #count the occurences of the value at A[i]\n",
    "        for j in range(n):      #second forloop to iterature through the array for comparison\n",
    "            if A[i]==A[j]:      #if the value at A[j] is the same at A[i]\n",
    "                c = c+1         #add one to the counter for occurences\n",
    "        if c>n/2:               #if count is greater than len/2\n",
    "            return A[i]         #a majority has been found\n",
    "    return None                 #else no majority in the array\n",
    "```\n",
    "(b) Divide and Conquer:\n",
    "\n",
    "split into subarrays\n",
    "check the value in each subarray by comparing to the full array values"
   ]
  },
  {
   "cell_type": "markdown",
   "id": "3b30d9b8",
   "metadata": {},
   "source": [
    "## Python template"
   ]
  },
  {
   "cell_type": "code",
   "execution_count": 2,
   "id": "a101ce3b",
   "metadata": {},
   "outputs": [],
   "source": [
    "def majority(x):\n",
    "    # base case\n",
    "    if len(x) == 1:\n",
    "        return 0\n",
    "    \n",
    "    n = len(x)\n",
    "    mid = n//2\n",
    "\n",
    "    L = majority(x[:mid])\n",
    "    R = majority(x[mid+1:])\n",
    "    \n",
    "    if sum(y == x[L] for y in x) > n/2:\n",
    "        return \n",
    "    if sum(y == x[R] for y in x) > n/2:\n",
    "        return \n",
    "    \n",
    "    \n",
    "    return -1"
   ]
  },
  {
   "cell_type": "code",
   "execution_count": 1,
   "id": "4cc1d904",
   "metadata": {},
   "outputs": [
    {
     "name": "stdout",
     "output_type": "stream",
     "text": [
      "-1 -1 3\n",
      "Wrong! (1)\n"
     ]
    }
   ],
   "source": [
    "def majority(x):\n",
    "    # should return an index i of the majority element\n",
    "    # if there is one, so that x[i] is the majority element\n",
    "    # or -1 if there is no majority element\n",
    "    return -1 # replace this with your solution\n",
    "\n",
    "x1 = [1,2,3,4,3,2,2,2,2,2,2,3,2,1,2,3]\n",
    "x2 = [8,9,10,10]\n",
    "maj1 = majority(x1)\n",
    "maj2 = majority(x2)\n",
    "print(maj1, maj2, x1[maj1])\n",
    "if maj1==-1:\n",
    "    print(\"Wrong! (1)\")\n",
    "elif maj1>=len(x1):\n",
    "    print(\"Wrong! (2)\")\n",
    "elif x1[maj1]!=2:\n",
    "    print(\"Wrong! (3)\")\n",
    "elif maj2!=-1:\n",
    "    print(\"Wrong! (4)\")\n",
    "else:\n",
    "    print(\"You got it!\")"
   ]
  },
  {
   "cell_type": "code",
   "execution_count": 49,
   "id": "38b6f152",
   "metadata": {},
   "outputs": [],
   "source": [
    "def search(X, val):\n",
    "    if len(X) == 1:\n",
    "        if X[0] == val:\n",
    "            return 0\n",
    "        else:\n",
    "            return -1\n",
    "    \n",
    "    else:\n",
    "        mid = len(X)//2\n",
    "        if val == X[mid]:\n",
    "            return mid\n",
    "        \n",
    "        elif val > X[mid]:\n",
    "            s = search(X[mid+1:], val)\n",
    "            return s + mid\n",
    "        \n",
    "        else:\n",
    "            return search(X[:mid], val)\n",
    "        "
   ]
  },
  {
   "cell_type": "code",
   "execution_count": null,
   "id": "d6bfeeb5",
   "metadata": {},
   "outputs": [],
   "source": [
    "def searchans(A, x):\n",
    "    # Establish base cases\n",
    "    if len(A) == 0:\n",
    "        return -1\n",
    "    if len(A) == 1:\n",
    "        if A[0] == x:\n",
    "            return 0\n",
    "        return -1\n",
    "    \n",
    "    # finding midpoint\n",
    "    m = len(A)//2\n",
    "    if A[m] == x:\n",
    "        return m\n",
    "    elif A[m] > x:          # left half\n",
    "        return searchans(A[:m], x)\n",
    "    else:                   # right half\n",
    "        s = searchans(A[m+1:], x)\n",
    "        if s == -1:\n",
    "            return -1\n",
    "        else:\n",
    "            return m + 1 + s"
   ]
  },
  {
   "cell_type": "code",
   "execution_count": 51,
   "id": "57d99b7b",
   "metadata": {},
   "outputs": [
    {
     "data": {
      "text/plain": [
       "4"
      ]
     },
     "execution_count": 51,
     "metadata": {},
     "output_type": "execute_result"
    }
   ],
   "source": [
    "Y = [0, 11, 12, 13, 14, 15, 16, 17, 18]\n",
    "search(Y, 15)"
   ]
  },
  {
   "cell_type": "markdown",
   "id": "39bfd8e2",
   "metadata": {},
   "source": [
    "## C++ template\n",
    "\n",
    "```C++\n",
    "#include<iostream>\n",
    "#include<vector>\n",
    "#include<algorithm>\n",
    "\n",
    "using namespace std;\n",
    "\n",
    "int majority(vector<int> &x)\n",
    "{\n",
    "    // should return i where either i==-1 if there is no majority\n",
    "    // element, or if 0<=i<x.size() where x[i] is the majority\n",
    "    // element.\n",
    "}\n",
    "\n",
    "#define WRONG { cout << \"Nope!\" << endl; return 0; }\n",
    "\n",
    "int main(void)\n",
    "{\n",
    "    vector<int> x1{1,2,3,4,3,2,2,2,2,2,2,3,2,1,2,3};\n",
    "    vector<int> x2{8,9,10,10};\n",
    "    int maj1 = majority(x1);\n",
    "    int maj2 = majority(x2);\n",
    "    //cout << maj1 << \" \" << maj2 << endl;\n",
    "    if(maj1==-1) WRONG;\n",
    "    if(maj1>=x1.size()) WRONG;\n",
    "    if(x1[maj1]!=2) WRONG;\n",
    "    if(maj2!=-1) WRONG;\n",
    "    cout << \"You got it!\" << endl;\n",
    "    return 0;\n",
    "}\n",
    "```"
   ]
  }
 ],
 "metadata": {
  "kernelspec": {
   "display_name": "Python 3 (ipykernel)",
   "language": "python",
   "name": "python3"
  },
  "language_info": {
   "codemirror_mode": {
    "name": "ipython",
    "version": 3
   },
   "file_extension": ".py",
   "mimetype": "text/x-python",
   "name": "python",
   "nbconvert_exporter": "python",
   "pygments_lexer": "ipython3",
   "version": "3.7.16"
  }
 },
 "nbformat": 4,
 "nbformat_minor": 5
}
