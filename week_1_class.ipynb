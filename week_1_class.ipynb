{
 "cells": [
  {
   "cell_type": "markdown",
   "metadata": {},
   "source": [
    "# Week 1 class\n",
    "\n",
    "The aim of this class is to implement the Fibonacci algorithm using the following methods, and plot their timings (for $n=1$ to 100, except for the recursive algorithm where you should stop at $n=30$):\n",
    "\n",
    "* Recursive\n",
    "* Table\n",
    "* Keep last two values\n",
    "* Analytic (if you have time)\n",
    "* Matrix (if you have time)\n",
    "\n",
    "## Python\n",
    "\n",
    "You can use any language you like, but I'll use Python for all my code samples and during the class. I think Python is very simple syntactically so the code samples should be easy enough to follow even if you don't know Python. On the other hand, I would strongly encourage you to learn it as it's an incredibly useful language. Here is a nice tutorial on Python, NumPy (numerical library for efficient array computation) and Jupyter (the notebook interface I'm using here):\n",
    "\n",
    "* [Python Numpy Jupyter tutorial](https://cs231n.github.io/python-numpy-tutorial/)\n",
    "\n",
    "Here is a little sample of plotting timings for a function in Python."
   ]
  },
  {
   "cell_type": "code",
   "execution_count": 11,
   "metadata": {},
   "outputs": [
    {
     "data": {
      "image/png": "[encoded data removed]",
      "text/plain": [
       "<Figure size 432x288 with 1 Axes>"
      ]
     },
     "metadata": {
      "needs_background": "light"
     },
     "output_type": "display_data"
    }
   ],
   "source": [
    "# this first line is just used to make the plots appear nicely in the notebook\n",
    "%matplotlib inline\n",
    "import matplotlib.pyplot as plt\n",
    "import numpy as np\n",
    "import time\n",
    "\n",
    "def fake_function(n):\n",
    "    time.sleep(0.001*n*n)\n",
    "    \n",
    "def timeit(n):\n",
    "    start = time.time()\n",
    "    fake_function(n)\n",
    "    end = time.time()\n",
    "    return end-start\n",
    "    \n",
    "N = [0, 10, 20, 30, 40, 50]\n",
    "T = [timeit(n) for n in N]\n",
    "plt.plot(N, T)\n",
    "plt.xlabel('n')\n",
    "plt.ylabel('Time (s)');"
   ]
  },
  {
   "cell_type": "markdown",
   "metadata": {},
   "source": [
    "## Implementation notes on compiled languages\n",
    "\n",
    "For the other ones, if you're using a compiled language, they might run so fast that in order to time them you should slow down the addition by adding a 1 microsecond wait. I've included a C++ ``busy_sleep`` function below to do that.\n",
    "\n",
    "```c++\n",
    "#include <chrono>\n",
    "#include <iostream>\n",
    "#include <fstream>\n",
    "\n",
    "using namespace std;\n",
    "\n",
    "// this function busy sleeps for n microseconds\n",
    "void busy_sleep(int n)\n",
    "{\n",
    "    auto start = chrono::steady_clock::now();\n",
    "    while(chrono::duration_cast<chrono::microseconds>(chrono::steady_clock::now() - start).count()<n) {};\n",
    "}\n",
    "```"
   ]
  },
  {
   "cell_type": "markdown",
   "metadata": {},
   "source": [
    "## Plotting Function"
   ]
  },
  {
   "cell_type": "code",
   "execution_count": null,
   "metadata": {},
   "outputs": [],
   "source": [
    "def timeit(n, func):\n",
    "    start = time.time()\n",
    "    func(n)\n",
    "    end = time.time()\n",
    "    return end-start\n",
    "\n",
    "def plot_func(n, func):\n",
    "    \n",
    "    N = range(n)\n",
    "    T = [timeit(i, func) for i in N]\n",
    "    plt.plot(N, T)\n",
    "    plt.xlabel('n')\n",
    "    plt.ylabel('Time (s)');\n",
    "    return plt.show()"
   ]
  },
  {
   "cell_type": "markdown",
   "metadata": {},
   "source": [
    "## Recursive Method"
   ]
  },
  {
   "cell_type": "code",
   "execution_count": null,
   "metadata": {},
   "outputs": [],
   "source": [
    "import numpy as np\n",
    "\n",
    "def recurs_func(n):\n",
    "    if n <= 2:\n",
    "        return n\n",
    "    else:\n",
    "        return (recurs_func(n-1) + recurs_func(n-2))"
   ]
  },
  {
   "cell_type": "code",
   "execution_count": null,
   "metadata": {},
   "outputs": [],
   "source": [
    "%timeit recurs_func(30)"
   ]
  },
  {
   "cell_type": "code",
   "execution_count": null,
   "metadata": {},
   "outputs": [],
   "source": [
    "plot_func(30, recurs_func)"
   ]
  },
  {
   "cell_type": "markdown",
   "metadata": {},
   "source": [
    "## Table Method"
   ]
  },
  {
   "cell_type": "code",
   "execution_count": null,
   "metadata": {},
   "outputs": [],
   "source": [
    "def table_func(n):\n",
    "    fib = np.ones(n, dtype='int64')\n",
    "    for i in range(2, n):\n",
    "        fib[i] = fib[i-1]+fib[i-2]\n",
    "    return fib[-1]"
   ]
  },
  {
   "cell_type": "code",
   "execution_count": null,
   "metadata": {},
   "outputs": [],
   "source": [
    "table_func(10)"
   ]
  },
  {
   "cell_type": "code",
   "execution_count": null,
   "metadata": {},
   "outputs": [],
   "source": [
    "plot_func(10, table_func)"
   ]
  },
  {
   "cell_type": "markdown",
   "metadata": {},
   "source": [
    "## Keep Last Two Values Method"
   ]
  },
  {
   "cell_type": "code",
   "execution_count": null,
   "metadata": {},
   "outputs": [],
   "source": [
    "def last_two_val_func(n):\n",
    "    a, b = 1, 1\n",
    "    for i in range(3, n):\n",
    "        a, b = b, a+b\n",
    "    return b"
   ]
  },
  {
   "cell_type": "code",
   "execution_count": null,
   "metadata": {},
   "outputs": [],
   "source": [
    "last_two_val_func(100)"
   ]
  },
  {
   "cell_type": "code",
   "execution_count": null,
   "metadata": {},
   "outputs": [],
   "source": [
    "plot_func(100, last_two_val_func)"
   ]
  }
 ],
 "metadata": {
  "colab": {
   "collapsed_sections": [],
   "name": "Discrete-maths-timing-template.ipynb",
   "provenance": []
  },
  "kernelspec": {
   "display_name": "Python 3",
   "language": "python",
   "name": "python3"
  },
  "language_info": {
   "codemirror_mode": {
    "name": "ipython",
    "version": 3
   },
   "file_extension": ".py",
   "mimetype": "text/x-python",
   "name": "python",
   "nbconvert_exporter": "python",
   "pygments_lexer": "ipython3",
   "version": "3.9.2"
  }
 },
 "nbformat": 4,
 "nbformat_minor": 1
}
